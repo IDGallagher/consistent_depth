{
  "nbformat": 4,
  "nbformat_minor": 0,
  "metadata": {
    "colab": {
      "provenance": [],
      "gpuType": "A100",
      "toc_visible": true,
      "mount_file_id": "1Y7L9oslJq7k1-M0u4lXYvTDUkL3r2aqp",
      "authorship_tag": "ABX9TyPb4MpVIkzG4bAlD7BNmQDF",
      "include_colab_link": true
    },
    "kernelspec": {
      "name": "python3",
      "display_name": "Python 3"
    },
    "language_info": {
      "name": "python"
    }
  },
  "cells": [
    {
      "cell_type": "markdown",
      "metadata": {
        "id": "view-in-github",
        "colab_type": "text"
      },
      "source": [
        "<a href=\"https://colab.research.google.com/github/IDGallagher/consistent_depth/blob/main/%5BSIGGRAPH_2020%5D_Consistent_Video_Depth_Estimation.ipynb\" target=\"_parent\"><img src=\"https://colab.research.google.com/assets/colab-badge.svg\" alt=\"Open In Colab\"/></a>"
      ]
    },
    {
      "cell_type": "markdown",
      "source": [
        "# Pull repo and submodules from git"
      ],
      "metadata": {
        "id": "PsJ7fgkZ3dMa"
      }
    },
    {
      "cell_type": "code",
      "execution_count": null,
      "metadata": {
        "id": "8wKyAQAIir8K"
      },
      "outputs": [],
      "source": [
        "%cd /content/\n",
        "!git clone https://github.com/IDGallagher/consistent_depth.git\n",
        "%cd consistent_depth\n",
        "!git submodule update --init --recursive"
      ]
    },
    {
      "cell_type": "markdown",
      "source": [
        "# Download dependencies and compile Flownet2\n",
        "**NB: You need to change the following configurations to use -std=c++14:**\n",
        "/content/consistent_depth/third_party/flownet2/networks/channelnorm_package/setup.py\n",
        "/content/consistent_depth/third_party/flownet2/networks/correlation_package/setup.py\n",
        "/content/consistent_depth/third_party/flownet2/networks/resample2d_package/setup.py\n",
        "\n"
      ],
      "metadata": {
        "id": "Ylovf_haoYvH"
      }
    },
    {
      "cell_type": "code",
      "source": [
        "%cd /content/consistent_depth\n",
        "!./scripts/install.sh"
      ],
      "metadata": {
        "id": "RqyKBvAKkEwJ"
      },
      "execution_count": null,
      "outputs": []
    },
    {
      "cell_type": "markdown",
      "source": [
        "# Download demo data"
      ],
      "metadata": {
        "id": "F--mn_eSF1B_"
      }
    },
    {
      "cell_type": "code",
      "source": [
        "!./scripts/download_model.sh\n",
        "!./scripts/download_demo.sh results/ayush"
      ],
      "metadata": {
        "id": "eZrpbJ1ijpBT"
      },
      "execution_count": null,
      "outputs": []
    },
    {
      "cell_type": "markdown",
      "source": [
        "# Run model"
      ],
      "metadata": {
        "id": "mrVaSWoI3-u9"
      }
    },
    {
      "cell_type": "code",
      "source": [
        "%cd /content/consistent_depth/\n",
        "!python main.py --video_file data/videos/ayush.mp4 --path results/ayush \\\n",
        "  --camera_params \"1671.770118, 540, 960\" --camera_model \"SIMPLE_PINHOLE\" \\\n",
        "  --make_video"
      ],
      "metadata": {
        "id": "Lsp7F0croAAA"
      },
      "execution_count": null,
      "outputs": []
    }
  ]
}